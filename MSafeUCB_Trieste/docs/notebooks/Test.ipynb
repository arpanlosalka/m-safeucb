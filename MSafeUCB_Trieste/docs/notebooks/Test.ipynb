{
 "cells": [
  {
   "cell_type": "markdown",
   "id": "675add85",
   "metadata": {
    "toc": true
   },
   "source": [
    "<h1>Table of Contents<span class=\"tocSkip\"></span></h1>\n",
    "<div class=\"toc\"><ul class=\"toc-item\"></ul></div>"
   ]
  },
  {
   "cell_type": "code",
   "execution_count": null,
   "id": "03ab30d8",
   "metadata": {
    "ExecuteTime": {
     "end_time": "2022-08-05T16:06:01.347219Z",
     "start_time": "2022-08-05T16:06:01.297033Z"
    }
   },
   "outputs": [],
   "source": [
    "import tensorflow as tf\n",
    "\n",
    "a = tf.constant([[4],[5],[6]])\n",
    "b = tf.constant([[1],[2],[3]])\n",
    "\n",
    "tf.math.multiply(a,b)"
   ]
  },
  {
   "cell_type": "code",
   "execution_count": null,
   "id": "81514370",
   "metadata": {
    "ExecuteTime": {
     "end_time": "2022-08-05T16:06:01.766815Z",
     "start_time": "2022-08-05T16:06:01.656857Z"
    }
   },
   "outputs": [],
   "source": [
    "tf.math.count_nonzero([[True, False], [False, True]])"
   ]
  },
  {
   "cell_type": "code",
   "execution_count": null,
   "id": "5fb027c7",
   "metadata": {
    "ExecuteTime": {
     "end_time": "2022-08-05T16:06:03.696863Z",
     "start_time": "2022-08-05T16:06:03.656983Z"
    }
   },
   "outputs": [],
   "source": [
    "covariance = tf.constant([[1.0,2.],[3.,4.0]])\n",
    "lst = ([0.]*(covariance.shape[0]-1))\n",
    "lst.append(1)\n",
    "tf.constant(lst, covariance.dtype)"
   ]
  },
  {
   "cell_type": "code",
   "execution_count": null,
   "id": "5817c10b",
   "metadata": {
    "ExecuteTime": {
     "end_time": "2022-08-05T16:06:05.116685Z",
     "start_time": "2022-08-05T16:06:05.107431Z"
    }
   },
   "outputs": [],
   "source": [
    "print(([0.]*10).append(1))"
   ]
  },
  {
   "cell_type": "code",
   "execution_count": null,
   "id": "63470c8b",
   "metadata": {
    "ExecuteTime": {
     "end_time": "2022-08-05T16:06:25.227156Z",
     "start_time": "2022-08-05T16:06:25.208210Z"
    }
   },
   "outputs": [],
   "source": [
    "t = tf.constant([[False,True], [True,False], [False, True]])\n",
    "dims = 2\n",
    "\n",
    "rev = tf.reverse(t, [-1])\n",
    "rev"
   ]
  },
  {
   "cell_type": "code",
   "execution_count": null,
   "id": "34104bf5",
   "metadata": {
    "ExecuteTime": {
     "end_time": "2022-08-05T16:07:06.257245Z",
     "start_time": "2022-08-05T16:07:06.226834Z"
    }
   },
   "outputs": [],
   "source": [
    "tf.math.argmax(rev, axis = -1)"
   ]
  },
  {
   "cell_type": "code",
   "execution_count": null,
   "id": "2387b9e4",
   "metadata": {
    "ExecuteTime": {
     "end_time": "2022-08-05T12:15:26.103480Z",
     "start_time": "2022-08-05T12:15:26.093438Z"
    }
   },
   "outputs": [],
   "source": [
    "import numpy as np\n",
    "a = range(10)\n",
    "print(a)\n",
    "np.reshape(a,[-1,5])"
   ]
  },
  {
   "cell_type": "code",
   "execution_count": null,
   "id": "6e10e684",
   "metadata": {
    "ExecuteTime": {
     "end_time": "2022-08-05T12:55:24.464118Z",
     "start_time": "2022-08-05T12:55:24.443937Z"
    }
   },
   "outputs": [],
   "source": [
    "tensor = tf.constant([[1, 2],[3, 4]], dtype=tf.int32)\n",
    "indices = tf.constant([[0, 1],[1, 0]], dtype=tf.int32)\n",
    "updates =  tf.ones([2], dtype=tf.int32)\n",
    "\n",
    "tf.tensor_scatter_nd_add(tensor, indices, updates)\n"
   ]
  },
  {
   "cell_type": "code",
   "execution_count": null,
   "id": "934abc0c",
   "metadata": {
    "ExecuteTime": {
     "end_time": "2022-08-05T13:51:04.694826Z",
     "start_time": "2022-08-05T13:51:04.685309Z"
    }
   },
   "outputs": [],
   "source": [
    "indices = tf.constant([[4], [3], [1], [7]])\n",
    "updates = tf.constant([9, 10, 11, 12])\n",
    "tensor = tf.ones([8], dtype=tf.int32)\n",
    "updated = tf.tensor_scatter_nd_add(tensor, indices, updates)\n",
    "updated"
   ]
  },
  {
   "cell_type": "code",
   "execution_count": null,
   "id": "b0692079",
   "metadata": {
    "ExecuteTime": {
     "end_time": "2022-08-05T13:45:57.954870Z",
     "start_time": "2022-08-05T13:45:56.324636Z"
    }
   },
   "outputs": [],
   "source": [
    "import tensorflow as tf\n",
    "tf.reshape(tf.ones(4), [-1,2])"
   ]
  },
  {
   "cell_type": "code",
   "execution_count": null,
   "id": "8d17e9a6",
   "metadata": {
    "ExecuteTime": {
     "end_time": "2022-08-05T13:51:23.474786Z",
     "start_time": "2022-08-05T13:51:23.454746Z"
    }
   },
   "outputs": [],
   "source": [
    "updated = tf.constant([1,1,1,1])\n",
    "updated - updates"
   ]
  },
  {
   "cell_type": "code",
   "execution_count": null,
   "id": "8fcdc9ac",
   "metadata": {
    "ExecuteTime": {
     "end_time": "2022-08-05T14:31:12.965472Z",
     "start_time": "2022-08-05T14:31:12.945320Z"
    }
   },
   "outputs": [],
   "source": [
    "updated.shape"
   ]
  },
  {
   "cell_type": "code",
   "execution_count": null,
   "id": "3789225f",
   "metadata": {
    "ExecuteTime": {
     "end_time": "2022-08-05T14:36:04.925506Z",
     "start_time": "2022-08-05T14:36:04.911040Z"
    }
   },
   "outputs": [],
   "source": [
    "a = tf.constant(3)\n",
    "a"
   ]
  },
  {
   "cell_type": "code",
   "execution_count": null,
   "id": "283f6ac9",
   "metadata": {
    "ExecuteTime": {
     "end_time": "2022-08-05T14:36:07.565494Z",
     "start_time": "2022-08-05T14:36:07.555760Z"
    }
   },
   "outputs": [],
   "source": [
    "b = tf.constant(a)"
   ]
  },
  {
   "cell_type": "code",
   "execution_count": null,
   "id": "6823e3c5",
   "metadata": {
    "ExecuteTime": {
     "end_time": "2022-08-05T14:36:07.965234Z",
     "start_time": "2022-08-05T14:36:07.955641Z"
    }
   },
   "outputs": [],
   "source": [
    "b-1"
   ]
  },
  {
   "cell_type": "code",
   "execution_count": null,
   "id": "fbacc2d2",
   "metadata": {
    "ExecuteTime": {
     "end_time": "2022-08-05T17:18:19.885473Z",
     "start_time": "2022-08-05T17:18:19.873962Z"
    }
   },
   "outputs": [],
   "source": [
    "c = tf.cast(tf.cast(tf.constant([1,2,0., -1]), tf.bool), tf.float64)\n",
    "c"
   ]
  },
  {
   "cell_type": "code",
   "execution_count": null,
   "id": "0a8d2988",
   "metadata": {
    "ExecuteTime": {
     "end_time": "2022-08-05T17:18:20.516492Z",
     "start_time": "2022-08-05T17:18:20.500920Z"
    }
   },
   "outputs": [],
   "source": [
    "c = tf.tile(tf.reshape(c, [4,1]),[1,2], tf.float32)\n",
    "c"
   ]
  },
  {
   "cell_type": "code",
   "execution_count": null,
   "id": "6fc5f5d1",
   "metadata": {
    "ExecuteTime": {
     "end_time": "2022-08-05T17:19:10.196560Z",
     "start_time": "2022-08-05T17:19:10.181095Z"
    }
   },
   "outputs": [],
   "source": [
    "d = tf.cast(tf.reshape(tf.range(8),[4,2]), tf.float64)\n",
    "tf.multiply(c, d)"
   ]
  },
  {
   "cell_type": "code",
   "execution_count": null,
   "id": "adeefe7b",
   "metadata": {
    "ExecuteTime": {
     "end_time": "2022-09-28T07:41:54.415292Z",
     "start_time": "2022-09-28T07:41:29.399218Z"
    }
   },
   "outputs": [],
   "source": [
    "%matplotlib inline\n",
    "\n",
    "# silence TF warnings and info messages, only print errors\n",
    "# https://stackoverflow.com/questions/35911252/disable-tensorflow-debugging-information\n",
    "import os\n",
    "\n",
    "os.environ[\"TF_CPP_MIN_LOG_LEVEL\"] = \"3\"\n",
    "\n",
    "import tensorflow as tf\n",
    "\n",
    "tf.get_logger().setLevel(\"ERROR\")\n",
    "\n",
    "import numpy as np\n",
    "\n",
    "np.random.seed(1793)\n",
    "tf.random.set_seed(1793)\n",
    "\n",
    "from trieste.objectives import branin, BRANIN_SEARCH_SPACE\n",
    "from trieste.experimental.plotting import plot_function_plotly\n",
    "\n",
    "search_space = BRANIN_SEARCH_SPACE\n",
    "\n",
    "# threshold is arbitrary, but has to be within the range of the function\n",
    "threshold = 80.0\n",
    "\n",
    "# define a modified branin function\n",
    "def thresholded_branin(x):\n",
    "    y = np.array(branin(x))\n",
    "    y[y > threshold] = np.nan\n",
    "    return tf.convert_to_tensor(y.reshape(-1, 1), x.dtype)\n",
    "\n",
    "\n",
    "# illustrate the thresholded branin function\n",
    "fig = plot_function_plotly(\n",
    "    thresholded_branin, search_space.lower, search_space.upper, grid_density=700\n",
    ")\n",
    "fig.update_layout(height=800, width=800)\n",
    "fig.show()"
   ]
  },
  {
   "cell_type": "code",
   "execution_count": null,
   "id": "048065ba",
   "metadata": {},
   "outputs": [],
   "source": [
    "import trieste\n",
    "\n",
    "observer = trieste.objectives.utils.mk_observer(branin)\n",
    "\n",
    "num_initial_points = 6\n",
    "initial_query_points = search_space.sample_halton(num_initial_points)\n",
    "initial_data = observer(initial_query_points)\n",
    "\n",
    "import gpflow\n",
    "from trieste.models.gpflow import GaussianProcessRegression, build_gpr\n",
    "\n",
    "\n",
    "gpflow_model = build_gpr(initial_data, search_space, likelihood_variance=1e-7)\n",
    "model = GaussianProcessRegression(gpflow_model)\n",
    "\n"
   ]
  },
  {
   "cell_type": "code",
   "execution_count": null,
   "id": "46f900a2",
   "metadata": {
    "ExecuteTime": {
     "end_time": "2022-10-02T03:29:11.305605Z",
     "start_time": "2022-10-02T03:29:11.221601Z"
    }
   },
   "outputs": [],
   "source": [
    "import tensorflow as tf\n",
    "\n",
    "source = tf.constant([1,2,3,4,5,6])\n",
    "source_2 = tf.constant([1,2,3,4,5,6])*2\n",
    "\n",
    "# element\n",
    "@tf.function\n",
    "def my_function(previous_iterations_result, element):\n",
    "  print(\"In my_function.\")\n",
    "  return previous_iterations_result + [element[0]]+[element[1]]\n",
    "\n",
    "print(\"Executing foldl\")\n",
    "print(\"foldl result:\\n%s\"%\n",
    "      tf.foldl(my_function, (source, source_2),initializer = [-1,1]))"
   ]
  },
  {
   "cell_type": "code",
   "execution_count": null,
   "id": "16e4ee86",
   "metadata": {
    "ExecuteTime": {
     "end_time": "2022-10-02T06:21:52.086813Z",
     "start_time": "2022-10-02T06:21:52.069573Z"
    }
   },
   "outputs": [],
   "source": [
    "a = tf.constant([1,2,0])\n",
    "print(a.shape)\n",
    "\n",
    "b = tf.constant([[4],[6],[5]])\n",
    "b_order = tf.gather(b,a) \n",
    "print(b_order)\n",
    "print(tf.squeeze(b_order))"
   ]
  },
  {
   "cell_type": "code",
   "execution_count": null,
   "id": "7a5d6d31",
   "metadata": {
    "ExecuteTime": {
     "end_time": "2022-10-02T06:23:01.245644Z",
     "start_time": "2022-10-02T06:23:01.229643Z"
    }
   },
   "outputs": [],
   "source": []
  },
  {
   "cell_type": "code",
   "execution_count": null,
   "id": "e97c1dc9",
   "metadata": {
    "ExecuteTime": {
     "end_time": "2022-10-02T08:58:03.045734Z",
     "start_time": "2022-10-02T08:58:03.035736Z"
    }
   },
   "outputs": [],
   "source": [
    "indices = tf.constant([[4], [3], [1], [7]])\n",
    "# indices = tf.constant([4])\n",
    "updates = tf.constant([9, 10, 11, 12])\n",
    "# updates = tf.constant([9])\n",
    "tensor = tf.ones([8], dtype=tf.int32)\n",
    "updated = tf.tensor_scatter_nd_add(tensor, indices, updates)\n",
    "updated\n"
   ]
  },
  {
   "cell_type": "code",
   "execution_count": null,
   "id": "dc9906ef",
   "metadata": {
    "ExecuteTime": {
     "end_time": "2022-10-02T07:04:24.925696Z",
     "start_time": "2022-10-02T07:04:24.919695Z"
    }
   },
   "outputs": [],
   "source": [
    "a = tf.constant([0])\n",
    "if a :\n",
    "    print(\"True\")\n",
    "else:\n",
    "    print(\"False\")"
   ]
  },
  {
   "cell_type": "code",
   "execution_count": null,
   "id": "a6c91108",
   "metadata": {
    "ExecuteTime": {
     "end_time": "2022-10-02T09:06:18.894104Z",
     "start_time": "2022-10-02T09:06:18.881067Z"
    }
   },
   "outputs": [],
   "source": [
    "tf.reverse(updates, axis=[0])"
   ]
  },
  {
   "cell_type": "code",
   "execution_count": null,
   "id": "5b203978",
   "metadata": {
    "ExecuteTime": {
     "end_time": "2022-10-03T05:17:46.293037Z",
     "start_time": "2022-10-03T05:17:46.269118Z"
    }
   },
   "outputs": [],
   "source": [
    "f = open(\"text.txt\", \"r\")\n",
    "\n",
    "count = 0\n",
    "check_string = \"TensorShape\" \n",
    "for line in f:\n",
    "    if line[:len(check_string)] == check_string:\n",
    "        count += 1\n",
    "\n",
    "\n",
    "print(count/3)"
   ]
  },
  {
   "cell_type": "code",
   "execution_count": null,
   "id": "2de8c3c1",
   "metadata": {
    "ExecuteTime": {
     "end_time": "2022-10-04T17:54:19.145817Z",
     "start_time": "2022-10-04T17:54:19.011853Z"
    }
   },
   "outputs": [],
   "source": [
    "\n",
    "def rosen(xy): \n",
    "    return (xy[0]**2 + xy[1])\n",
    "\n",
    "grad = nd.Gradient(rosen)([2, 4])\n",
    "print(\"Gradient of is \", grad)"
   ]
  },
  {
   "cell_type": "code",
   "execution_count": 1,
   "id": "24964399",
   "metadata": {
    "ExecuteTime": {
     "end_time": "2022-10-09T02:56:21.361001Z",
     "start_time": "2022-10-09T02:56:21.193156Z"
    }
   },
   "outputs": [],
   "source": [
    "import numdifftools as nd\n",
    "import numpy as np\n",
    "def cosine_monotone(x):\n",
    "    return -(1+np.cos(10.0*x[1]))*(1+x[0])\n",
    "\n",
    "def lin_periodic(x):\n",
    "    return -x[0]*(np.exp(x[1])*np.sin(10*x[1]) + np.sin(5*x[1]) + 5)/3\n",
    "\n",
    "def booth(x):\n",
    "    return -x[0]*(((x[0]-2+2*x[1]-4-7)**2)/75 + ((2*x[0]-4 + x[1]-2 -5)**2)/75)\n",
    "\n",
    "def beale(x):\n",
    "#     x[2] = 4*x[2]\n",
    "    return -(x[0]**3)*((1.5- x[1] + x[1]*x[2])**2 + (2.25- x[1] + x[1]*(x[2]**2))**2 + (2.625 -x[1] + x[1]*(x[2]**3))**2)/3\n",
    "\n",
    "def quad_3(x):\n",
    "    return -(x[0]**2 + x[1]**2 + x[2]**2)\n",
    "    \n"
   ]
  },
  {
   "cell_type": "code",
   "execution_count": 2,
   "id": "fb1e7b45",
   "metadata": {
    "ExecuteTime": {
     "end_time": "2022-10-09T02:59:07.915309Z",
     "start_time": "2022-10-09T02:56:38.481140Z"
    }
   },
   "outputs": [
    {
     "name": "stdout",
     "output_type": "stream",
     "text": [
      "(90000,)\n",
      "20.02067552602842\n",
      "-2.4643220668529864e-06\n",
      "-4.0\n"
     ]
    }
   ],
   "source": [
    "func_opt = cosine_monotone\n",
    "\n",
    "grad = nd.Gradient(func_opt)\n",
    "\n",
    "nx, ny = (300, 300)\n",
    "# nx, ny, nz = (50, 50, 50)\n",
    "\n",
    "x = np.linspace(0,1, nx)\n",
    "y = np.linspace(0,2, ny)\n",
    "# z = np.linspace(0,1, nz)\n",
    "\n",
    "xv, yv = np.meshgrid(x,y)\n",
    "# xv, yv, zv = np.meshgrid(x, y, z)\n",
    "\n",
    "xv = xv.flatten()\n",
    "yv = yv.flatten()\n",
    "# zv = zv.flatten()\n",
    "\n",
    "print(xv.shape)\n",
    "grad_norm = []\n",
    "val = []\n",
    "\n",
    "for i in range(xv.shape[0]):\n",
    "#     point = [xv[i], yv[i], zv[i]]\n",
    "    point = [xv[i], yv[i]]\n",
    "    val.append(func_opt(point))\n",
    "    grad_norm.append(np.linalg.norm(grad(point)))\n",
    "    \n",
    "print(np.max(grad_norm))\n",
    "print(np.max(val))\n",
    "print(np.min(val))\n",
    "# print(len(val))"
   ]
  },
  {
   "cell_type": "code",
   "execution_count": null,
   "id": "61577d09",
   "metadata": {
    "ExecuteTime": {
     "end_time": "2022-10-08T01:37:02.962777Z",
     "start_time": "2022-10-08T01:33:17.900826Z"
    },
    "scrolled": true
   },
   "outputs": [],
   "source": [
    "# nx, ny = (300, 300)\n",
    "nx, ny, nz = (50, 50, 50)\n",
    "\n",
    "x = np.linspace(0,1, nx)\n",
    "y = np.linspace(0,1, ny)\n",
    "z = np.linspace(0,1, nz)\n",
    "\n",
    "# xv, yv = np.meshgrid(x,y)\n",
    "xv, yv, zv = np.meshgrid(x, y, z)\n",
    "\n",
    "xv = xv.flatten()\n",
    "yv = yv.flatten()\n",
    "zv = zv.flatten()\n",
    "\n",
    "print(xv.shape)\n",
    "grad_norm = []\n",
    "val = []\n",
    "\n",
    "for i in range(xv.shape[0]):\n",
    "    point = [xv[i], yv[i], zv[i]]\n",
    "#     point = [xv[i], yv[i]]\n",
    "    val.append(quad_3(point))\n",
    "    grad_norm.append(np.linalg.norm(grad(point)))\n",
    "    \n",
    "print(np.max(grad_norm))\n",
    "print(np.max(val))\n",
    "print(np.min(val))\n",
    "# print(len(val))"
   ]
  },
  {
   "cell_type": "code",
   "execution_count": null,
   "id": "e64828dd",
   "metadata": {
    "ExecuteTime": {
     "end_time": "2022-10-06T11:46:52.607296Z",
     "start_time": "2022-10-06T11:46:52.577341Z"
    }
   },
   "outputs": [],
   "source": [
    "import tensorflow as tf\n",
    "\n",
    "x = tf.constant([[1,2],[3,4]])\n",
    "y = tf.constant([[1],[2]])**2\n",
    "z = tf.constant([[3],[4]])\n",
    "y*z"
   ]
  },
  {
   "cell_type": "code",
   "execution_count": null,
   "id": "207c88fc",
   "metadata": {
    "ExecuteTime": {
     "end_time": "2022-10-08T00:49:03.974983Z",
     "start_time": "2022-10-08T00:49:03.853088Z"
    }
   },
   "outputs": [],
   "source": [
    "def beale(x):\n",
    "    s = x[..., 0]\n",
    "    x0 = x[..., 1]\n",
    "    y = x[..., 2]\n",
    "    # print(tf.cos(x1) - x0**2)\n",
    "    return -s*((- x0 + x0*y)**2 + (- x0 + x0*(y**2))**2 + ( - x0 + x0*tf.math.pow(y,3))**2)/10000.0\n",
    "\n",
    "x = tf.constant([[0.0, 0.0, 0.0], [1, 1, 1]], dtype=tf.float32)\n",
    "beale(x)\n"
   ]
  },
  {
   "cell_type": "code",
   "execution_count": null,
   "id": "8adfe915",
   "metadata": {
    "ExecuteTime": {
     "end_time": "2022-10-06T12:21:09.618183Z",
     "start_time": "2022-10-06T12:21:09.607184Z"
    }
   },
   "outputs": [],
   "source": [
    "def cosine_monotone(x):\n",
    "    x0 = x[..., :1]\n",
    "    x1 = x[..., 1:]\n",
    "    return -tf.multiply(1+tf.cos(10.0*x1), 1+x0)\n",
    "\n",
    "x = tf.constant([[0.0, 0.0], [0.05, 0.05]], dtype=tf.float32)\n",
    "cosine_monotone(x)"
   ]
  },
  {
   "cell_type": "code",
   "execution_count": null,
   "id": "389c34f3",
   "metadata": {
    "ExecuteTime": {
     "end_time": "2022-10-06T12:42:40.479293Z",
     "start_time": "2022-10-06T12:42:40.462271Z"
    }
   },
   "outputs": [],
   "source": [
    "dims = tf.constant(3, dtype = tf.float32)\n",
    "num_per_dim = tf.cast(tf.math.pow(125000, 1.0/dims), tf.int32)\n",
    "print(num_per_dim)"
   ]
  },
  {
   "cell_type": "code",
   "execution_count": null,
   "id": "b9b96e7d",
   "metadata": {
    "ExecuteTime": {
     "end_time": "2022-10-06T13:01:11.549137Z",
     "start_time": "2022-10-06T13:01:11.528073Z"
    }
   },
   "outputs": [],
   "source": [
    "dims = tf.constant(3, dtype = tf.float32)\n",
    "num_per_dim = tf.cast(tf.math.pow(117649, 1.0/dims), tf.int32)\n",
    "print(num_per_dim)"
   ]
  },
  {
   "cell_type": "code",
   "execution_count": 4,
   "id": "daa0fa7a",
   "metadata": {
    "ExecuteTime": {
     "end_time": "2022-10-20T05:29:33.242408Z",
     "start_time": "2022-10-20T05:29:33.213388Z"
    }
   },
   "outputs": [
    {
     "data": {
      "text/plain": [
       "-3.8611042904559656"
      ]
     },
     "execution_count": 4,
     "metadata": {},
     "output_type": "execute_result"
    }
   ],
   "source": [
    "\n",
    "def hartmann_3(xx):\n",
    "    alpha = np.array([1.0, 1.2, 3.0, 3.2])\n",
    "\n",
    "    A = np.array([[3.0, 10, 30],\n",
    "         [0.1, 10, 35],\n",
    "         [3.0, 10, 30],\n",
    "         [0.1, 10, 35]])\n",
    "\n",
    "    P = 10.0**(-4) * np.array([[3689, 1170, 2673],\n",
    "                   [4699, 4387, 7470],\n",
    "                   [1091, 8732, 5547],\n",
    "                   [381, 5743, 8828]])\n",
    "\n",
    "    outer = 0\n",
    "    for ii in range(4):\n",
    "        inner = 0\n",
    "        for jj in range(3):\n",
    "            xj = xx[jj]\n",
    "            Aij = A[ii, jj]\n",
    "            Pij = P[ii, jj]\n",
    "            inner = inner + Aij*(xj-Pij)**2\n",
    "\n",
    "        new = alpha[ii] * np.exp(-inner)\n",
    "        outer = outer + new\n",
    "\n",
    "    return -outer\n",
    "\n",
    "def hartmann_3_monotone(xx):\n",
    "    return hartmann_3(xx) - hartmann_3(np.array([0,xx]))\n",
    "\n",
    "hartmann_3(np.array([.11,.55,.85]))\n",
    "\n"
   ]
  },
  {
   "cell_type": "code",
   "execution_count": 13,
   "id": "17dae0cb",
   "metadata": {
    "ExecuteTime": {
     "end_time": "2022-10-20T05:46:40.708030Z",
     "start_time": "2022-10-20T05:46:33.847487Z"
    }
   },
   "outputs": [
    {
     "name": "stdout",
     "output_type": "stream",
     "text": [
      "(125000,)\n",
      "[0. 0. 0. ... 1. 1. 1.]\n",
      "[0. 0. 0. ... 1. 1. 1.]\n",
      "[0.         0.02040816 0.04081633 ... 0.95918367 0.97959184 1.        ]\n",
      "1.0\n",
      "1.0\n"
     ]
    }
   ],
   "source": [
    "nx, ny, nz = (50, 50, 50)\n",
    "x = np.linspace(0, 1, nx)\n",
    "y = np.linspace(0, 1, ny)\n",
    "z = np.linspace(0, 1, nz)\n",
    "\n",
    "xv, yv, zv = np.meshgrid(x, y, z)\n",
    "xv = xv.flatten()\n",
    "yv = yv.flatten()\n",
    "zv = zv.flatten()\n",
    "\n",
    "print(xv.shape)\n",
    "print(xv)\n",
    "print(yv)\n",
    "print(zv)\n",
    "\n",
    "vals = []\n",
    "for i in range(50*50*50):\n",
    "    vals.append(hartmann_3(np.array([0,yv[i],zv[i]])) - hartmann_3(np.array([0,yv[i],zv[i]]))+1.0)\n",
    "    \n",
    "print(np.max(vals))\n",
    "print(np.min(vals))\n"
   ]
  },
  {
   "cell_type": "code",
   "execution_count": 12,
   "id": "0097bc90",
   "metadata": {
    "ExecuteTime": {
     "end_time": "2022-10-20T05:46:17.694079Z",
     "start_time": "2022-10-20T05:46:17.671994Z"
    }
   },
   "outputs": [
    {
     "name": "stdout",
     "output_type": "stream",
     "text": [
      "5727\n"
     ]
    }
   ],
   "source": [
    "vals = np.array(vals)\n",
    "print(len(vals[vals>2]))"
   ]
  },
  {
   "cell_type": "code",
   "execution_count": 4,
   "id": "8a27a080",
   "metadata": {
    "ExecuteTime": {
     "end_time": "2022-10-10T19:45:48.372036Z",
     "start_time": "2022-10-10T19:45:48.362037Z"
    }
   },
   "outputs": [
    {
     "data": {
      "text/plain": [
       "9.0"
      ]
     },
     "execution_count": 4,
     "metadata": {},
     "output_type": "execute_result"
    }
   ],
   "source": [
    "\n",
    "3.0 / (1 * 1 ** 1) * 3"
   ]
  },
  {
   "cell_type": "code",
   "execution_count": 5,
   "id": "30fca4e0",
   "metadata": {
    "ExecuteTime": {
     "end_time": "2022-10-10T21:42:52.837598Z",
     "start_time": "2022-10-10T21:42:52.818554Z"
    }
   },
   "outputs": [
    {
     "data": {
      "text/plain": [
       "3"
      ]
     },
     "execution_count": 5,
     "metadata": {},
     "output_type": "execute_result"
    }
   ],
   "source": [
    "max([1,2,3])"
   ]
  },
  {
   "cell_type": "code",
   "execution_count": null,
   "id": "151a5f0c",
   "metadata": {},
   "outputs": [],
   "source": []
  }
 ],
 "metadata": {
  "hide_input": false,
  "kernelspec": {
   "display_name": "Python 3 (ipykernel)",
   "language": "python",
   "name": "python3"
  },
  "language_info": {
   "codemirror_mode": {
    "name": "ipython",
    "version": 3
   },
   "file_extension": ".py",
   "mimetype": "text/x-python",
   "name": "python",
   "nbconvert_exporter": "python",
   "pygments_lexer": "ipython3",
   "version": "3.8.10"
  },
  "toc": {
   "base_numbering": 1,
   "nav_menu": {},
   "number_sections": true,
   "sideBar": true,
   "skip_h1_title": false,
   "title_cell": "Table of Contents",
   "title_sidebar": "Contents",
   "toc_cell": true,
   "toc_position": {},
   "toc_section_display": true,
   "toc_window_display": false
  },
  "varInspector": {
   "cols": {
    "lenName": 16,
    "lenType": 16,
    "lenVar": 40
   },
   "kernels_config": {
    "python": {
     "delete_cmd_postfix": "",
     "delete_cmd_prefix": "del ",
     "library": "var_list.py",
     "varRefreshCmd": "print(var_dic_list())"
    },
    "r": {
     "delete_cmd_postfix": ") ",
     "delete_cmd_prefix": "rm(",
     "library": "var_list.r",
     "varRefreshCmd": "cat(var_dic_list()) "
    }
   },
   "types_to_exclude": [
    "module",
    "function",
    "builtin_function_or_method",
    "instance",
    "_Feature"
   ],
   "window_display": false
  }
 },
 "nbformat": 4,
 "nbformat_minor": 5
}
