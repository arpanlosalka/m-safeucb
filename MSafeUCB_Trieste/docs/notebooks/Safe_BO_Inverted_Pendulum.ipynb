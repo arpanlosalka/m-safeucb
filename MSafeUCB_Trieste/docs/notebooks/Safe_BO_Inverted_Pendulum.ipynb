{
 "cells": [
  {
   "cell_type": "markdown",
   "id": "2c37b974",
   "metadata": {
    "toc": true
   },
   "source": [
    "<h1>Table of Contents<span class=\"tocSkip\"></span></h1>\n",
    "<div class=\"toc\"><ul class=\"toc-item\"><li><span><a href=\"#Inverted-Pendulum-Swing-Up-Problem---Safe-Bayesian-Optimisation\" data-toc-modified-id=\"Inverted-Pendulum-Swing-Up-Problem---Safe-Bayesian-Optimisation-1\"><span class=\"toc-item-num\">1&nbsp;&nbsp;</span>Inverted Pendulum Swing-Up Problem - Safe Bayesian Optimisation</a></span><ul class=\"toc-item\"><li><span><a href=\"#Set-up-environment-and-reward-function\" data-toc-modified-id=\"Set-up-environment-and-reward-function-1.1\"><span class=\"toc-item-num\">1.1&nbsp;&nbsp;</span>Set up environment and reward function</a></span></li><li><span><a href=\"#Define-search-space\" data-toc-modified-id=\"Define-search-space-1.2\"><span class=\"toc-item-num\">1.2&nbsp;&nbsp;</span>Define search space</a></span></li><li><span><a href=\"#Run-Safe-Bayesian-Optimisation\" data-toc-modified-id=\"Run-Safe-Bayesian-Optimisation-1.3\"><span class=\"toc-item-num\">1.3&nbsp;&nbsp;</span>Run Safe Bayesian Optimisation</a></span></li><li><span><a href=\"#Plot-regret\" data-toc-modified-id=\"Plot-regret-1.4\"><span class=\"toc-item-num\">1.4&nbsp;&nbsp;</span>Plot regret</a></span></li><li><span><a href=\"#Plot-distance-to-safe-boundary\" data-toc-modified-id=\"Plot-distance-to-safe-boundary-1.5\"><span class=\"toc-item-num\">1.5&nbsp;&nbsp;</span>Plot distance to safe boundary</a></span></li></ul></li></ul></div>"
   ]
  },
  {
   "cell_type": "markdown",
   "id": "6e98d7ba",
   "metadata": {
    "ExecuteTime": {
     "end_time": "2022-10-20T16:02:35.698434Z",
     "start_time": "2022-10-20T16:02:35.683329Z"
    }
   },
   "source": [
    "# Inverted Pendulum Swing-Up Problem - Safe Bayesian Optimisation"
   ]
  },
  {
   "cell_type": "markdown",
   "id": "433fc7b4",
   "metadata": {},
   "source": [
    "## Set up environment and reward function"
   ]
  },
  {
   "cell_type": "code",
   "execution_count": 1,
   "id": "b40486e0",
   "metadata": {
    "ExecuteTime": {
     "end_time": "2022-10-21T05:50:14.126611Z",
     "start_time": "2022-10-21T05:50:09.581711Z"
    }
   },
   "outputs": [
    {
     "data": {
      "text/plain": [
       "[1123]"
      ]
     },
     "execution_count": 1,
     "metadata": {},
     "output_type": "execute_result"
    }
   ],
   "source": [
    "import tensorflow as tf\n",
    "import numpy as np\n",
    "import trieste\n",
    "import gpflow\n",
    "\n",
    "import gym\n",
    "\n",
    "env_name = \"Pendulum-v1\"\n",
    "env = gym.make(env_name)\n",
    "\n",
    "np.random.seed(1123)\n",
    "tf.random.set_seed(1123)\n",
    "env.seed(1123)"
   ]
  },
  {
   "cell_type": "code",
   "execution_count": 2,
   "id": "144c1856",
   "metadata": {
    "ExecuteTime": {
     "end_time": "2022-10-21T05:50:14.828790Z",
     "start_time": "2022-10-21T05:50:14.812730Z"
    },
    "scrolled": false
   },
   "outputs": [],
   "source": [
    "steps_limit = 100\n",
    "\n",
    "def demo_pendulum(env, w):\n",
    "    total_reward = []\n",
    "    steps = 0\n",
    "    s = env.reset()\n",
    "    env.set_state(np.array([w[1],0]))\n",
    "    \n",
    "    while True:\n",
    "        if steps > steps_limit:\n",
    "            break\n",
    "        if steps < 1:\n",
    "            s, r, done, info = env.step(np.array([w[0]]))\n",
    "            total_reward += [r]\n",
    "        else:\n",
    "            s, r, done, info = env.step(np.array([0]))\n",
    "            total_reward += [r]\n",
    "        steps += 1\n",
    "        if done:\n",
    "            break\n",
    "\n",
    "    return np.max(np.array(total_reward))"
   ]
  },
  {
   "cell_type": "code",
   "execution_count": 3,
   "id": "3639dc01",
   "metadata": {
    "ExecuteTime": {
     "end_time": "2022-10-21T05:50:16.051989Z",
     "start_time": "2022-10-21T05:50:16.031669Z"
    },
    "scrolled": true
   },
   "outputs": [],
   "source": [
    "N_RUNS = 1\n",
    "\n",
    "def pendulum_objective(x):\n",
    "    all_rewards = []\n",
    "    for w in x:\n",
    "        rewards = [demo_pendulum(env, w) for _ in range(N_RUNS)]\n",
    "        all_rewards.append(rewards)\n",
    "    rewards_tensor = tf.convert_to_tensor(all_rewards, dtype=tf.float64)\n",
    "    return -1 * tf.reshape(tf.math.reduce_mean(rewards_tensor, axis=1), (-1, 1)) - 2.0\n",
    "    \n",
    "observer = trieste.objectives.utils.mk_observer(pendulum_objective)"
   ]
  },
  {
   "cell_type": "markdown",
   "id": "918704bd",
   "metadata": {
    "hide_input": false
   },
   "source": [
    "## Define search space"
   ]
  },
  {
   "cell_type": "code",
   "execution_count": 4,
   "id": "be980f62",
   "metadata": {
    "ExecuteTime": {
     "end_time": "2022-10-21T05:50:17.389045Z",
     "start_time": "2022-10-21T05:50:17.201710Z"
    },
    "scrolled": true
   },
   "outputs": [],
   "source": [
    "import numpy as np\n",
    "import tensorflow as tf\n",
    "import matplotlib.pyplot as plt\n",
    "\n",
    "from trieste.objectives.utils import mk_observer\n",
    "from trieste.space import DiscreteSearchSpace\n",
    "\n",
    "fig = plt.figure(facecolor=(1, 1, 1))\n",
    "%matplotlib inline\n",
    "\n",
    "function_opt = pendulum_objective\n",
    "beta = 5.0\n",
    "\n",
    "dim = 2\n",
    "num_per_dim = tf.constant(200)\n",
    "\n",
    "coords_per_axis = tf.linspace(tf.constant([-2*np.pi+np.pi/36.0,0.], dtype=tf.float64), tf.constant([-np.pi/36.0, 1.], dtype=tf.float64), num_per_dim, axis=-1)\n",
    "\n",
    "idx = list(range(1,coords_per_axis.shape[0]+1))\n",
    "idx[-1] = 0\n",
    "\n",
    "coords = tf.meshgrid(*tf.unstack(tf.gather(coords_per_axis, idx)))\n",
    "coords = [tf.reshape(xv, [-1]) for xv in coords]\n",
    "coords = tf.stack(coords, axis=-1)\n",
    "\n",
    "search_space = DiscreteSearchSpace(coords)\n",
    "\n",
    "def pred_f(x):\n",
    "    return -1.0*(function_opt(x)+2)"
   ]
  },
  {
   "cell_type": "markdown",
   "id": "8eecee75",
   "metadata": {},
   "source": [
    "## Run Safe Bayesian Optimisation"
   ]
  },
  {
   "cell_type": "code",
   "execution_count": 8,
   "id": "34bb5543",
   "metadata": {
    "ExecuteTime": {
     "end_time": "2022-10-21T06:22:49.442823Z",
     "start_time": "2022-10-21T06:21:03.155122Z"
    },
    "scrolled": true
   },
   "outputs": [
    {
     "name": "stdout",
     "output_type": "stream",
     "text": [
      "WARNING:tensorflow:From C:\\Users\\arpan\\AppData\\Local\\Packages\\PythonSoftwareFoundation.Python.3.8_qbz5n2kfra8p0\\LocalCache\\local-packages\\Python38\\site-packages\\tensorflow\\python\\util\\deprecation.py:629: calling map_fn_v2 (from tensorflow.python.ops.map_fn) with dtype is deprecated and will be removed in a future version.\n",
      "Instructions for updating:\n",
      "Use fn_output_signature instead\n",
      "Optimization completed without errors\n",
      "Trying to get dataset\n"
     ]
    }
   ],
   "source": [
    "import imageio\n",
    "import gpflow\n",
    "import random\n",
    "import tensorflow_probability as tfp\n",
    "\n",
    "from trieste.models.gpflow import GaussianProcessRegression, build_gpr\n",
    "from trieste.acquisition.function import MonotoneSafeUCB, PredictiveVarianceSafe, SafeoptMonotone\n",
    "from trieste.acquisition.rule import EfficientGlobalOptimization\n",
    "\n",
    "import pickle\n",
    "\n",
    "def build_model(data):\n",
    "    variance = tf.math.reduce_variance(data.observations)\n",
    "    kernel = gpflow.kernels.Matern52(variance=variance, lengthscales=[.2, .2])\n",
    "    prior_scale = tf.cast(1.0, dtype=tf.float64)\n",
    "    kernel.variance.prior = tfp.distributions.LogNormal(\n",
    "        tf.cast(3, dtype=tf.float64), prior_scale\n",
    "    )\n",
    "    kernel.lengthscales.prior = tfp.distributions.LogNormal(\n",
    "        tf.math.log(kernel.lengthscales), prior_scale\n",
    "    )\n",
    "    gpr = gpflow.models.GPR(data.astuple(), kernel, noise_variance=1e-5)\n",
    "    gpflow.set_trainable(gpr.likelihood, False)\n",
    "    return GaussianProcessRegression(gpr, num_kernel_samples=10)\n",
    "\n",
    "observer = trieste.objectives.utils.mk_observer(function_opt)\n",
    "\n",
    "# Select algorithm: change beta/L accordingly (if needed)\n",
    "acq = MonotoneSafeUCB()\n",
    "# acq = PredictiveVarianceSafe()\n",
    "# acq = SafeoptMonotone()\n",
    "\n",
    "rule = EfficientGlobalOptimization(builder=acq)\n",
    "bo = trieste.bayesian_optimizer.BayesianOptimizer(observer, search_space)\n",
    "num_initial_points = 2\n",
    "initial_query_points = tf.constant([[0.0, random.uniform(-2*np.pi+np.pi/36.0, -np.pi/36.0)], \n",
    "                                    [0.0, random.uniform(-2*np.pi+np.pi/36.0, -np.pi/36.0)]] , dtype=tf.float64)\n",
    "initial_data = observer(initial_query_points)\n",
    "\n",
    "model = build_model(initial_data)\n",
    "bo_iter = 150\n",
    "result = bo.optimize(bo_iter, initial_data, model, rule, track_state=True)\n",
    "\n",
    "dataset = result.try_get_final_dataset()\n",
    "query_points = dataset.query_points.numpy()\n",
    "observations = dataset.observations.numpy()"
   ]
  },
  {
   "cell_type": "markdown",
   "id": "482effea",
   "metadata": {},
   "source": [
    "## Plot regret"
   ]
  },
  {
   "cell_type": "code",
   "execution_count": 12,
   "id": "e60aaa19",
   "metadata": {
    "ExecuteTime": {
     "end_time": "2022-10-21T06:45:15.476343Z",
     "start_time": "2022-10-21T06:45:15.330995Z"
    }
   },
   "outputs": [
    {
     "data": {
      "text/plain": [
       "<matplotlib.legend.Legend at 0x1ab2204d100>"
      ]
     },
     "execution_count": 12,
     "metadata": {},
     "output_type": "execute_result"
    },
    {
     "data": {
      "image/png": "[encoded data removed]",
      "text/plain": [
       "<Figure size 432x288 with 1 Axes>"
      ]
     },
     "metadata": {
      "needs_background": "light"
     },
     "output_type": "display_data"
    }
   ],
   "source": [
    "def plot_cumulative_regret(\n",
    "    obs_values,\n",
    "    ax,\n",
    "    label,\n",
    "    obs_every = 3,\n",
    "    show_obs=False,\n",
    "    c = \"blue\",\n",
    "):\n",
    "    \n",
    "    cum_values = np.cumsum(obs_values)\n",
    "    cum_values_t = [cum_values[i]/(i+1) for i in range(len(obs_values))]\n",
    "    ax.plot(cum_values_t, color=c, label=label + \" (Avg. Cumulative)\")\n",
    "        \n",
    "    if show_obs:\n",
    "        obs_values = np.mean(obs_values, axis = 1)\n",
    "        ax.scatter(range(0,obs_values.shape[0],obs_every), obs_values[0::obs_every], c=c, marker='x', label=label+\" (Instantaneous)\")\n",
    "\n",
    "thres = -2.0*tf.ones(observations.shape, observations.dtype)\n",
    "\n",
    "suboptimality = observations - thres.numpy()\n",
    "_, ax = plt.subplots(1, 1)\n",
    "\n",
    "plot_cumulative_regret(\n",
    "    suboptimality, ax, label = \"Regret\", show_obs = True\n",
    ")\n",
    "\n",
    "ax.legend()"
   ]
  },
  {
   "cell_type": "markdown",
   "id": "636d584e",
   "metadata": {},
   "source": [
    "## Plot distance to safe boundary"
   ]
  },
  {
   "cell_type": "code",
   "execution_count": 13,
   "id": "4080a75d",
   "metadata": {
    "ExecuteTime": {
     "end_time": "2022-10-21T06:45:47.326620Z",
     "start_time": "2022-10-21T06:45:20.686282Z"
    },
    "scrolled": true
   },
   "outputs": [
    {
     "data": {
      "text/plain": [
       "Text(0.5, 0, 't')"
      ]
     },
     "execution_count": 13,
     "metadata": {},
     "output_type": "execute_result"
    },
    {
     "data": {
      "image/png": "[encoded data removed]",
      "text/plain": [
       "<Figure size 432x288 with 1 Axes>"
      ]
     },
     "metadata": {
      "needs_background": "light"
     },
     "output_type": "display_data"
    }
   ],
   "source": [
    "import matplotlib.pyplot as plt\n",
    "from util.plotting import create_grid\n",
    "from trieste.utils import to_numpy\n",
    "\n",
    "thres_point_f = 0.0\n",
    "thres_point_ucb = 2.0\n",
    "\n",
    "def find_avg_dist(result, function_opt, mins, maxs, grid_density, return_avg = False):\n",
    "    avg_dist = []\n",
    "\n",
    "    mins = to_numpy(mins)\n",
    "    maxs = to_numpy(maxs)\n",
    "\n",
    "    Xplot, xx, yy = create_grid(mins=mins, maxs=maxs, grid_density=grid_density)\n",
    "    F = to_numpy(function_opt(Xplot))\n",
    "    F = F.flatten()\n",
    "    F = -1.*F.reshape((grid_density, grid_density))\n",
    "    max_s = []\n",
    "    for i in range(grid_density):\n",
    "        j = 1\n",
    "        if F[i,j-1] > thres_point_f or F[i,j] >  thres_point_f:\n",
    "            max_s.append(0)\n",
    "            continue\n",
    "        while F[i,j-1] <= thres_point_f and F[i, j] <= thres_point_f:\n",
    "            j += 1\n",
    "            if j == grid_density:\n",
    "                break\n",
    "        max_s.append(xx.flatten()[j-1])\n",
    "\n",
    "    for k in range(1, bo_iter):\n",
    "        def pred_UCB(x):\n",
    "            mean, var = result.history[k].models[\"OBJECTIVE\"].model.predict_f(x)\n",
    "            return - mean + beta*tf.sqrt(var)\n",
    "\n",
    "        F = to_numpy(pred_UCB(Xplot))\n",
    "        F = F.flatten()\n",
    "        F = F.reshape((grid_density, grid_density))\n",
    "        max_s_curr = []\n",
    "        for i in range(grid_density):\n",
    "            j = 1\n",
    "            if F[i,j-1] >thres_point_ucb or F[i,j] >thres_point_ucb:\n",
    "                max_s_curr.append(0)\n",
    "                continue\n",
    "            \n",
    "            while F[i,j-1] <= thres_point_ucb and F[i, j] <= thres_point_ucb:\n",
    "                j += 1\n",
    "                if j == grid_density:\n",
    "                    break            \n",
    "            max_s_curr.append(xx.flatten()[j-1])\n",
    "\n",
    "        diff_s_curr = np.array(max_s) - np.array(max_s_curr)\n",
    "        if return_avg:\n",
    "            avg_dist.append(np.mean(diff_s_curr))\n",
    "        else:\n",
    "            avg_dist.append(np.max(diff_s_curr))\n",
    "    \n",
    "    return avg_dist\n",
    "\n",
    "dists = find_avg_dist(result = result, function_opt = function_opt, mins = search_space.lower, \n",
    "                         maxs = search_space.upper, grid_density = 100, return_avg = False)\n",
    "\n",
    "_, ax = plt.subplots(1, 1)\n",
    "ax.plot(dists)\n",
    "\n",
    "ax.set_ylabel(\"Max. distance to safe boundary\")\n",
    "ax.set_xlabel(\"t\")"
   ]
  },
  {
   "cell_type": "code",
   "execution_count": null,
   "id": "ff77eb95",
   "metadata": {},
   "outputs": [],
   "source": []
  }
 ],
 "metadata": {
  "hide_input": false,
  "kernelspec": {
   "display_name": "Python 3 (ipykernel)",
   "language": "python",
   "name": "python3"
  },
  "language_info": {
   "codemirror_mode": {
    "name": "ipython",
    "version": 3
   },
   "file_extension": ".py",
   "mimetype": "text/x-python",
   "name": "python",
   "nbconvert_exporter": "python",
   "pygments_lexer": "ipython3",
   "version": "3.8.10"
  },
  "toc": {
   "base_numbering": 1,
   "nav_menu": {},
   "number_sections": true,
   "sideBar": true,
   "skip_h1_title": false,
   "title_cell": "Table of Contents",
   "title_sidebar": "Contents",
   "toc_cell": true,
   "toc_position": {},
   "toc_section_display": true,
   "toc_window_display": false
  },
  "varInspector": {
   "cols": {
    "lenName": 16,
    "lenType": 16,
    "lenVar": 40
   },
   "kernels_config": {
    "python": {
     "delete_cmd_postfix": "",
     "delete_cmd_prefix": "del ",
     "library": "var_list.py",
     "varRefreshCmd": "print(var_dic_list())"
    },
    "r": {
     "delete_cmd_postfix": ") ",
     "delete_cmd_prefix": "rm(",
     "library": "var_list.r",
     "varRefreshCmd": "cat(var_dic_list()) "
    }
   },
   "types_to_exclude": [
    "module",
    "function",
    "builtin_function_or_method",
    "instance",
    "_Feature"
   ],
   "window_display": false
  }
 },
 "nbformat": 4,
 "nbformat_minor": 5
}
